{
 "cells": [
  {
   "cell_type": "code",
   "execution_count": 3,
   "metadata": {},
   "outputs": [],
   "source": [
    "# https://ieeexplore.ieee.org/stamp/stamp.jsp?tp=&arnumber=7823894&tag=1"
   ]
  },
  {
   "cell_type": "code",
   "execution_count": 10,
   "metadata": {},
   "outputs": [
    {
     "name": "stdout",
     "output_type": "stream",
     "text": [
      "225\n"
     ]
    },
    {
     "data": {
      "text/plain": [
       "'/Users/debnathkundu/Downloads/Thesis/Dataset_Preparation/Buffalo/UB_keystroke_dataset/Segregated/K0/Fixed/056000.txt'"
      ]
     },
     "execution_count": 10,
     "metadata": {},
     "output_type": "execute_result"
    }
   ],
   "source": [
    "import os\n",
    "\n",
    "folder_path = '/Users/debnathkundu/Downloads/Thesis/Dataset_Preparation/Buffalo/UB_keystroke_dataset/Segregated'  # Replace with the actual folder path\n",
    "segregated_= folder_path+'/K0/Fixed'\n",
    "\n",
    "file_list = []\n",
    "\n",
    "for root, dirs, files in os.walk(segregated_):\n",
    "    for file_name in files:\n",
    "        file_path = os.path.join(root, file_name)\n",
    "        file_list.append(file_path)\n",
    "\n",
    "print(len(file_list))\n",
    "file_list[0]"
   ]
  },
  {
   "cell_type": "code",
   "execution_count": 9,
   "metadata": {},
   "outputs": [],
   "source": [
    "def replace_key_events(text):\n",
    "    text = text.replace('KeyDown', 'KD')\n",
    "    text = text.replace('KeyUp', 'KU')\n",
    "    return text"
   ]
  },
  {
   "cell_type": "code",
   "execution_count": 18,
   "metadata": {},
   "outputs": [
    {
     "name": "stdout",
     "output_type": "stream",
     "text": [
      "73\n"
     ]
    }
   ],
   "source": [
    "import json\n",
    "\n",
    "keyboard_type = 'K1'\n",
    "writing_mode = 'Fixed'\n",
    "\n",
    "keyboard_path = '/Users/debnathkundu/Downloads/Thesis/Dataset_Preparation/Buffalo/UB_keystroke_dataset/Segregated/'+keyboard_type\n",
    "fixed_folder_path = keyboard_path+'/'+writing_mode\n",
    "\n",
    "json_data = {}\n",
    "for file_name in os.listdir(fixed_folder_path):\n",
    "    file_path = os.path.join(fixed_folder_path, file_name)\n",
    "    # print(file_name)\n",
    "   \n",
    "    with open(file_path, 'r') as file:\n",
    "        content = file.read()  # print(content[0:125])\n",
    "    \n",
    "    all_lines=[]    \n",
    "    lines = content.splitlines()\n",
    "    for line in lines:\n",
    "        words = line.split()\n",
    "        words[1] = replace_key_events(words[1]) # print(words)\n",
    "        all_lines.append(words) \n",
    "    \n",
    "    # user_name=file_name[:3]+'_s_'+file_name[4:5]   #ignoring the session type & treating separate keyboards as separate users\n",
    "    # print(user_name) \n",
    "\n",
    "    json_data[file_name[:5]] = {\n",
    "        \"keyboard_data\": all_lines\n",
    "        }\n",
    "        \n",
    "with open(\"./\"+keyboard_type+\"_\"+writing_mode+\".json\", 'w') as f:\n",
    "    json.dump(json_data,f,indent=4)\n",
    "    \n",
    "print(len(json_data))"
   ]
  }
 ],
 "metadata": {
  "kernelspec": {
   "display_name": "Python 3",
   "language": "python",
   "name": "python3"
  },
  "language_info": {
   "codemirror_mode": {
    "name": "ipython",
    "version": 3
   },
   "file_extension": ".py",
   "mimetype": "text/x-python",
   "name": "python",
   "nbconvert_exporter": "python",
   "pygments_lexer": "ipython3",
   "version": "3.10.11"
  }
 },
 "nbformat": 4,
 "nbformat_minor": 2
}
