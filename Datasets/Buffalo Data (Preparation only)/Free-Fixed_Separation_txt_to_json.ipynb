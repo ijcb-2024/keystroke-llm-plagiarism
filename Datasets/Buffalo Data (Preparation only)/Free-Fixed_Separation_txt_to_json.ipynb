{
 "cells": [
  {
   "cell_type": "code",
   "execution_count": 3,
   "metadata": {},
   "outputs": [],
   "source": [
    "# https://ieeexplore.ieee.org/stamp/stamp.jsp?tp=&arnumber=7823894&tag=1"
   ]
  },
  {
   "cell_type": "markdown",
   "metadata": {},
   "source": [
    "# The following code segregates data into Free & Fixed cases only i.e. different sessions of the same user / different keyboard of the same user are treated as different users.\n",
    "# This prepares the data for dataset specific/agnostic scenarios.\n",
    "# Please note that the free/fixed data is now converted to .json."
   ]
  },
  {
   "cell_type": "code",
   "execution_count": 4,
   "metadata": {},
   "outputs": [
    {
     "name": "stdout",
     "output_type": "stream",
     "text": [
      "889\n"
     ]
    },
    {
     "data": {
      "text/plain": [
       "'/Users/debnathkundu/Downloads/Thesis/Dataset_Preparation/Buffalo/UB_keystroke_dataset/Unsegregated/s2/baseline/048201.txt'"
      ]
     },
     "execution_count": 4,
     "metadata": {},
     "output_type": "execute_result"
    }
   ],
   "source": [
    "import os\n",
    "\n",
    "folder_path = \"/Users/debnathkundu/Downloads/Thesis/Dataset_Preparation/Buffalo/UB_keystroke_dataset\"  # Replace with the actual folder path\n",
    "unsegregated_=folder_path+\"/Unsegregated\"\n",
    "\n",
    "file_list = []\n",
    "\n",
    "for root, dirs, files in os.walk(unsegregated_):\n",
    "    for file_name in files:\n",
    "        file_path = os.path.join(root, file_name)\n",
    "        file_list.append(file_path)\n",
    "\n",
    "print(len(file_list))\n",
    "file_list[0]"
   ]
  },
  {
   "cell_type": "code",
   "execution_count": 5,
   "metadata": {},
   "outputs": [],
   "source": [
    "import os\n",
    "import shutil\n",
    "\n",
    "new_folder_path = folder_path+\"/Segregated\"\n",
    "\n",
    "# Create directories if they don't exist\n",
    "os.makedirs(new_folder_path+\"/0-Fixed\", exist_ok=True)\n",
    "os.makedirs(new_folder_path+\"/1-Free\", exist_ok=True)\n",
    "\n",
    "for file_path in file_list:\n",
    "    file_name = os.path.basename(file_path)\n",
    "    if file_name[-5]=='0':\n",
    "        shutil.copy(file_path, new_folder_path+\"/0-Fixed\")\n",
    "    elif file_name[-5]=='1':\n",
    "        shutil.copy(file_path, new_folder_path+\"/1-Free\")\n",
    "        "
   ]
  },
  {
   "cell_type": "code",
   "execution_count": 6,
   "metadata": {},
   "outputs": [],
   "source": [
    "# Create directories if they don't exist\n",
    "os.makedirs(folder_path+\"/Raw_Temp\", exist_ok=True)\n",
    "# os.makedirs(new_folder_path+\"/1-Free\", exist_ok=True)"
   ]
  },
  {
   "cell_type": "code",
   "execution_count": 7,
   "metadata": {},
   "outputs": [],
   "source": [
    "def replace_key_events(text):\n",
    "    text = text.replace('KeyDown', 'KD')\n",
    "    text = text.replace('KeyUp', 'KU')\n",
    "    return text"
   ]
  },
  {
   "cell_type": "code",
   "execution_count": 8,
   "metadata": {},
   "outputs": [
    {
     "name": "stdout",
     "output_type": "stream",
     "text": [
      "444\n"
     ]
    }
   ],
   "source": [
    "import json\n",
    "\n",
    "fixed_folder_path = new_folder_path + \"/0-Fixed\"\n",
    "# print(fixed_folder_path)\n",
    "\n",
    "json_data_fixed = {}\n",
    "\n",
    "for file_name in os.listdir(fixed_folder_path):\n",
    "    file_path = os.path.join(fixed_folder_path, file_name)\n",
    "    # print(file_name)\n",
    "   \n",
    "    with open(file_path, 'r') as file:\n",
    "        content = file.read()  # print(content[0:125])\n",
    "    \n",
    "    all_lines=[]    \n",
    "    lines = content.splitlines()\n",
    "    for line in lines:\n",
    "        words = line.split()\n",
    "        words[1] = replace_key_events(words[1]) # print(words)\n",
    "        all_lines.append(words) \n",
    "    \n",
    "    # user_name=file_name[:3]+'_s_'+file_name[4:5]   #ignoring the session type & treating separate keyboards as separate users\n",
    "    # print(user_name) \n",
    "\n",
    "    json_data_fixed[file_name[:5]] = {\n",
    "        \"keyboard_data\": all_lines\n",
    "        }\n",
    "        \n",
    "with open(\"Raw_Temp/Buffalo_Fixed.json\", 'w') as f:\n",
    "    json.dump(json_data_fixed,f,indent=4)\n",
    "    \n",
    "print(len(json_data_fixed))"
   ]
  },
  {
   "cell_type": "code",
   "execution_count": 9,
   "metadata": {},
   "outputs": [
    {
     "name": "stdout",
     "output_type": "stream",
     "text": [
      "/Users/debnathkundu/Downloads/Thesis/Dataset_Preparation/Buffalo/UB_keystroke_dataset/Segregated/1-Free\n",
      "444\n"
     ]
    }
   ],
   "source": [
    "free_folder_path = new_folder_path + \"/1-Free\"\n",
    "print(free_folder_path)\n",
    "\n",
    "json_data_free = {}\n",
    "\n",
    "for file_name in os.listdir(free_folder_path):\n",
    "    file_path = os.path.join(free_folder_path, file_name)\n",
    "    # print(file_name)\n",
    "   \n",
    "    with open(file_path, 'r') as file:\n",
    "        content = file.read()  # print(content[0:125])\n",
    "    \n",
    "    all_lines=[]    \n",
    "    lines = content.splitlines()\n",
    "    for line in lines:\n",
    "        words = line.split()\n",
    "        words[1] = replace_key_events(words[1]) # print(words)\n",
    "        all_lines.append(words) \n",
    "    \n",
    "    # user_name=file_name[:3]+'_s_'+file_name[4:5]   #ignoring the session type & treating separate keyboards as separate users\n",
    "    # print(user_name) \n",
    "    \n",
    "    json_data_free[file_name[:5]] = {\n",
    "        \"keyboard_data\": all_lines\n",
    "        }\n",
    "        \n",
    "with open(\"Raw_Temp/Buffalo_Free.json\", 'w') as f:\n",
    "    json.dump(json_data_free,f,indent=4)\n",
    "    \n",
    "print(len(json_data_free))"
   ]
  }
 ],
 "metadata": {
  "kernelspec": {
   "display_name": "Python 3",
   "language": "python",
   "name": "python3"
  },
  "language_info": {
   "codemirror_mode": {
    "name": "ipython",
    "version": 3
   },
   "file_extension": ".py",
   "mimetype": "text/x-python",
   "name": "python",
   "nbconvert_exporter": "python",
   "pygments_lexer": "ipython3",
   "version": "3.10.11"
  }
 },
 "nbformat": 4,
 "nbformat_minor": 2
}
